{
 "cells": [
  {
   "cell_type": "code",
   "execution_count": null,
   "id": "bf2b16c2",
   "metadata": {},
   "outputs": [],
   "source": [
    "#Jake Hall\n",
    "#Award qualification determinator\n",
    "#This app will allow a student to enter their name and GPA to see if they qualify for the dean's list or honor roll\n",
    "\n",
    "\n",
    "fname = input(\"Please enter your  first name \")\n",
    "lname = input(\"Please enter your last name \")\n",
    "gpa = float(input(\"Please enter your GPA \"))\n",
    "\n",
    "if lname == \"zzz\":\n",
    "    quit()\n",
    "\n",
    "if gpa >= 3.5:\n",
    "    print(fname, lname, \"has made the Dean's list.\")\n",
    "elif gpa >= 3.25:\n",
    "    print(fname, lname,  \"has made the Honor Roll.\")\n",
    "else:\n",
    "    print(fname, lname,  \"does not qualify for either award.\")"
   ]
  }
 ],
 "metadata": {
  "kernelspec": {
   "display_name": "Python 3 (ipykernel)",
   "language": "python",
   "name": "python3"
  },
  "language_info": {
   "codemirror_mode": {
    "name": "ipython",
    "version": 3
   },
   "file_extension": ".py",
   "mimetype": "text/x-python",
   "name": "python",
   "nbconvert_exporter": "python",
   "pygments_lexer": "ipython3",
   "version": "3.11.4"
  }
 },
 "nbformat": 4,
 "nbformat_minor": 5
}
